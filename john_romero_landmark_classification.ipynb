{
 "cells": [
  {
   "cell_type": "markdown",
   "id": "33162b94-0a90-4223-a76e-cef888d43298",
   "metadata": {},
   "source": [
    "# Facial Landmark Classification \n",
    "\n",
    "This notebook extract/loads the facial landmarks from the video files and fit the model for these data. "
   ]
  },
  {
   "cell_type": "code",
   "execution_count": 1,
   "id": "487bc0c2-4ac7-4fc3-8443-8b7f4aaf9160",
   "metadata": {},
   "outputs": [],
   "source": [
    "# Importing Necessary Functions/Packages\n",
    "from glob import glob\n",
    "import os \n",
    "import shutil\n",
    "import tensorflow as tf\n",
    "import numpy as np \n",
    "import sys \n",
    "import pandas as pd\n",
    "import matplotlib.pyplot as plt\n",
    "import seaborn as sns\n",
    "from sklearn.model_selection import train_test_split\n",
    "from sklearn.metrics import confusion_matrix\n",
    "from sklearn.metrics import accuracy_score, classification_report\n",
    "# Custom Functions\n",
    "from john_romero_video_functions import *"
   ]
  },
  {
   "cell_type": "code",
   "execution_count": 2,
   "id": "31d9c919-d9df-4a8d-a02b-0ca09546fc09",
   "metadata": {},
   "outputs": [],
   "source": [
    "# Loading the Visual Directories \n",
    "vis_data_dir, full_vis_data, vis_raw_dir, vis_proc_dir, lmrk_dir, fig_dir, model_dir = get_vis_dirs()"
   ]
  },
  {
   "cell_type": "code",
   "execution_count": 3,
   "id": "6e431df7-6c0d-4b9e-9bd8-51ddb57384bb",
   "metadata": {},
   "outputs": [],
   "source": [
    "# Getting Raw Video Only Files into a separate directory \n",
    "fnames = glob(os.path.join(full_vis_data, '*', '*', '*', '02*.mp4'))\n",
    "for f in fnames: \n",
    "    actor, basename = f.split('\\\\')[-2:]\n",
    "    actor_dir = os.path.join(vis_raw_dir, actor)\n",
    "    if not os.path.isdir(actor_dir): os.mkdir(actor_dir)\n",
    "    shutil.move(f, os.path.join(actor_dir, basename))"
   ]
  },
  {
   "cell_type": "code",
   "execution_count": 7,
   "id": "a7dfb646-be6d-4362-8177-b580d0991c5b",
   "metadata": {
    "scrolled": true
   },
   "outputs": [],
   "source": [
    "# Getting the landmark datasets for the partitions\n",
    "train = get_landmark_dataset('train')\n",
    "val = get_landmark_dataset('val')\n",
    "test = get_landmark_dataset('test')\n",
    "\n",
    "# Separating the information from each partition \n",
    "train_fn, train_tar, train_feats = zip(*train)\n",
    "val_fn, val_tar, val_feats = zip(*val)\n",
    "test_fn, test_tar, test_feats = zip(*test)\n",
    "\n",
    "# Normalizing the Landmark datasets\n",
    "train_norm = normalize_landmark_ds(train_feats)\n",
    "val_norm = normalize_landmark_ds(val_feats)\n",
    "test_norm = normalize_landmark_ds(test_feats)\n",
    "\n",
    "# Gathering the datasets information into TF Tensors \n",
    "train_tar_oh, train_feats = tf.stack(train_tar), tf.ragged.stack(train_norm)\n",
    "val_tar_oh, val_feats = tf.stack(val_tar), tf.ragged.stack(val_norm)\n",
    "test_tar_oh, test_feats = tf.stack(test_tar), tf.ragged.stack(test_norm)"
   ]
  },
  {
   "cell_type": "code",
   "execution_count": 9,
   "id": "c86803ff-1783-4377-a7df-651c9a30cd6f",
   "metadata": {},
   "outputs": [],
   "source": [
    "# Fit Normalization Layer using the training data\n",
    "model = tf.keras.models.Sequential(name='VisFeatModel', \n",
    "                                   layers=[  \n",
    "    \n",
    "    # Input Layer (Specifies the number of features)                                   \n",
    "    tf.keras.layers.Input(shape = [None, 136]), \n",
    "\n",
    "\n",
    "    # Bi-LSTM Layer\n",
    "    tf.keras.layers.Bidirectional(\n",
    "        tf.keras.layers.LSTM(128, return_sequences=True, return_state=False,\n",
    "                             dropout=0.3, recurrent_dropout=0.2)\n",
    "        , name='BiLSTM1'\n",
    "    ),\n",
    "\n",
    "    # Bi-LSTM Layer                    \n",
    "    tf.keras.layers.Bidirectional(\n",
    "        tf.keras.layers.LSTM(128, return_sequences=True, return_state=False, \n",
    "                             dropout=0.3, recurrent_dropout=0.2), name='BiLSTM2'\n",
    "    ), \n",
    "                                       \n",
    "    # Bi-LSTM Layer\n",
    "    tf.keras.layers.Bidirectional(\n",
    "        tf.keras.layers.LSTM(64, return_sequences=False, return_state=False,\n",
    "                             dropout=0.3, recurrent_dropout=0.2), name='BiLSTM3'\n",
    "    ),\n",
    "                                       \n",
    "    # Output Layer\n",
    "    tf.keras.layers.Dense(7, activation='softmax', name='Softmax')\n",
    "])\n"
   ]
  },
  {
   "cell_type": "code",
   "execution_count": 10,
   "id": "060c53a6-8125-451f-b0a6-86768440e9ce",
   "metadata": {},
   "outputs": [
    {
     "name": "stdout",
     "output_type": "stream",
     "text": [
      "Model: \"VisFeatModel\"\n",
      "_________________________________________________________________\n",
      " Layer (type)                Output Shape              Param #   \n",
      "=================================================================\n",
      " BiLSTM1 (Bidirectional)     (None, None, 256)         271360    \n",
      "                                                                 \n",
      " BiLSTM2 (Bidirectional)     (None, None, 256)         394240    \n",
      "                                                                 \n",
      " BiLSTM3 (Bidirectional)     (None, 128)               164352    \n",
      "                                                                 \n",
      " Softmax (Dense)             (None, 7)                 903       \n",
      "                                                                 \n",
      "=================================================================\n",
      "Total params: 830,855\n",
      "Trainable params: 830,855\n",
      "Non-trainable params: 0\n",
      "_________________________________________________________________\n"
     ]
    }
   ],
   "source": [
    "# Batch Size\n",
    "batch_size = 56\n",
    "\n",
    "# Compile the Model\n",
    "model.compile(optimizer = tf.keras.optimizers.Adam(learning_rate=0.0001), \n",
    "              loss = tf.keras.losses.CategoricalCrossentropy(),\n",
    "              metrics=['accuracy'])\n",
    "\n",
    "# Display Details\n",
    "model.summary()"
   ]
  },
  {
   "cell_type": "code",
   "execution_count": 11,
   "id": "30355ee5-95a4-42f2-aaf5-8dd3d3bcf0ba",
   "metadata": {},
   "outputs": [
    {
     "name": "stdout",
     "output_type": "stream",
     "text": [
      "Epoch 1/30\n",
      "18/18 [==============================] - ETA: 0s - loss: 1.9076 - accuracy: 0.2242\n",
      "Epoch 1: val_loss improved from inf to 1.84559, saving model to C:\\Users\\johnd\\Documents\\MSDS\\Capstone\\Final\\Models\\video_bilstm_landmark_model.h5\n",
      "18/18 [==============================] - 56s 3s/step - loss: 1.9076 - accuracy: 0.2242 - val_loss: 1.8456 - val_accuracy: 0.2546\n",
      "Epoch 2/30\n",
      "18/18 [==============================] - ETA: 0s - loss: 1.8011 - accuracy: 0.3145\n",
      "Epoch 2: val_loss improved from 1.84559 to 1.79036, saving model to C:\\Users\\johnd\\Documents\\MSDS\\Capstone\\Final\\Models\\video_bilstm_landmark_model.h5\n",
      "18/18 [==============================] - 38s 2s/step - loss: 1.8011 - accuracy: 0.3145 - val_loss: 1.7904 - val_accuracy: 0.3056\n",
      "Epoch 3/30\n",
      "18/18 [==============================] - ETA: 0s - loss: 1.7351 - accuracy: 0.3462\n",
      "Epoch 3: val_loss improved from 1.79036 to 1.74936, saving model to C:\\Users\\johnd\\Documents\\MSDS\\Capstone\\Final\\Models\\video_bilstm_landmark_model.h5\n",
      "18/18 [==============================] - 38s 2s/step - loss: 1.7351 - accuracy: 0.3462 - val_loss: 1.7494 - val_accuracy: 0.3333\n",
      "Epoch 4/30\n",
      "18/18 [==============================] - ETA: 0s - loss: 1.6707 - accuracy: 0.3720\n",
      "Epoch 4: val_loss improved from 1.74936 to 1.70053, saving model to C:\\Users\\johnd\\Documents\\MSDS\\Capstone\\Final\\Models\\video_bilstm_landmark_model.h5\n",
      "18/18 [==============================] - 39s 2s/step - loss: 1.6707 - accuracy: 0.3720 - val_loss: 1.7005 - val_accuracy: 0.3472\n",
      "Epoch 5/30\n",
      "18/18 [==============================] - ETA: 0s - loss: 1.6111 - accuracy: 0.4167\n",
      "Epoch 5: val_loss improved from 1.70053 to 1.65328, saving model to C:\\Users\\johnd\\Documents\\MSDS\\Capstone\\Final\\Models\\video_bilstm_landmark_model.h5\n",
      "18/18 [==============================] - 40s 2s/step - loss: 1.6111 - accuracy: 0.4167 - val_loss: 1.6533 - val_accuracy: 0.3796\n",
      "Epoch 6/30\n",
      "18/18 [==============================] - ETA: 0s - loss: 1.5440 - accuracy: 0.4444\n",
      "Epoch 6: val_loss improved from 1.65328 to 1.62717, saving model to C:\\Users\\johnd\\Documents\\MSDS\\Capstone\\Final\\Models\\video_bilstm_landmark_model.h5\n",
      "18/18 [==============================] - 41s 2s/step - loss: 1.5440 - accuracy: 0.4444 - val_loss: 1.6272 - val_accuracy: 0.3889\n",
      "Epoch 7/30\n",
      "18/18 [==============================] - ETA: 0s - loss: 1.4821 - accuracy: 0.4762\n",
      "Epoch 7: val_loss improved from 1.62717 to 1.57540, saving model to C:\\Users\\johnd\\Documents\\MSDS\\Capstone\\Final\\Models\\video_bilstm_landmark_model.h5\n",
      "18/18 [==============================] - 40s 2s/step - loss: 1.4821 - accuracy: 0.4762 - val_loss: 1.5754 - val_accuracy: 0.4074\n",
      "Epoch 8/30\n",
      "18/18 [==============================] - ETA: 0s - loss: 1.4371 - accuracy: 0.5020\n",
      "Epoch 8: val_loss improved from 1.57540 to 1.54054, saving model to C:\\Users\\johnd\\Documents\\MSDS\\Capstone\\Final\\Models\\video_bilstm_landmark_model.h5\n",
      "18/18 [==============================] - 41s 2s/step - loss: 1.4371 - accuracy: 0.5020 - val_loss: 1.5405 - val_accuracy: 0.4491\n",
      "Epoch 9/30\n",
      "18/18 [==============================] - ETA: 0s - loss: 1.3697 - accuracy: 0.5317\n",
      "Epoch 9: val_loss improved from 1.54054 to 1.49116, saving model to C:\\Users\\johnd\\Documents\\MSDS\\Capstone\\Final\\Models\\video_bilstm_landmark_model.h5\n",
      "18/18 [==============================] - 41s 2s/step - loss: 1.3697 - accuracy: 0.5317 - val_loss: 1.4912 - val_accuracy: 0.4630\n",
      "Epoch 10/30\n",
      "18/18 [==============================] - ETA: 0s - loss: 1.3073 - accuracy: 0.5387\n",
      "Epoch 10: val_loss improved from 1.49116 to 1.46849, saving model to C:\\Users\\johnd\\Documents\\MSDS\\Capstone\\Final\\Models\\video_bilstm_landmark_model.h5\n",
      "18/18 [==============================] - 41s 2s/step - loss: 1.3073 - accuracy: 0.5387 - val_loss: 1.4685 - val_accuracy: 0.4722\n",
      "Epoch 11/30\n",
      "18/18 [==============================] - ETA: 0s - loss: 1.2647 - accuracy: 0.5734\n",
      "Epoch 11: val_loss improved from 1.46849 to 1.43189, saving model to C:\\Users\\johnd\\Documents\\MSDS\\Capstone\\Final\\Models\\video_bilstm_landmark_model.h5\n",
      "18/18 [==============================] - 42s 2s/step - loss: 1.2647 - accuracy: 0.5734 - val_loss: 1.4319 - val_accuracy: 0.4769\n",
      "Epoch 12/30\n",
      "18/18 [==============================] - ETA: 0s - loss: 1.1937 - accuracy: 0.5883\n",
      "Epoch 12: val_loss improved from 1.43189 to 1.42895, saving model to C:\\Users\\johnd\\Documents\\MSDS\\Capstone\\Final\\Models\\video_bilstm_landmark_model.h5\n",
      "18/18 [==============================] - 40s 2s/step - loss: 1.1937 - accuracy: 0.5883 - val_loss: 1.4290 - val_accuracy: 0.4722\n",
      "Epoch 13/30\n",
      "18/18 [==============================] - ETA: 0s - loss: 1.1619 - accuracy: 0.5982\n",
      "Epoch 13: val_loss did not improve from 1.42895\n",
      "18/18 [==============================] - 40s 2s/step - loss: 1.1619 - accuracy: 0.5982 - val_loss: 1.4398 - val_accuracy: 0.4722\n",
      "Epoch 14/30\n",
      "18/18 [==============================] - ETA: 0s - loss: 1.1153 - accuracy: 0.6290\n",
      "Epoch 14: val_loss improved from 1.42895 to 1.41152, saving model to C:\\Users\\johnd\\Documents\\MSDS\\Capstone\\Final\\Models\\video_bilstm_landmark_model.h5\n",
      "18/18 [==============================] - 39s 2s/step - loss: 1.1153 - accuracy: 0.6290 - val_loss: 1.4115 - val_accuracy: 0.4815\n",
      "Epoch 15/30\n",
      "18/18 [==============================] - ETA: 0s - loss: 1.0675 - accuracy: 0.6389\n",
      "Epoch 15: val_loss improved from 1.41152 to 1.36540, saving model to C:\\Users\\johnd\\Documents\\MSDS\\Capstone\\Final\\Models\\video_bilstm_landmark_model.h5\n",
      "18/18 [==============================] - 40s 2s/step - loss: 1.0675 - accuracy: 0.6389 - val_loss: 1.3654 - val_accuracy: 0.4722\n",
      "Epoch 16/30\n",
      "18/18 [==============================] - ETA: 0s - loss: 1.0172 - accuracy: 0.6647\n",
      "Epoch 16: val_loss did not improve from 1.36540\n",
      "18/18 [==============================] - 40s 2s/step - loss: 1.0172 - accuracy: 0.6647 - val_loss: 1.3922 - val_accuracy: 0.4815\n",
      "Epoch 17/30\n",
      "18/18 [==============================] - ETA: 0s - loss: 0.9703 - accuracy: 0.6806\n",
      "Epoch 17: val_loss did not improve from 1.36540\n",
      "18/18 [==============================] - 39s 2s/step - loss: 0.9703 - accuracy: 0.6806 - val_loss: 1.3783 - val_accuracy: 0.4861\n",
      "Epoch 18/30\n",
      "18/18 [==============================] - ETA: 0s - loss: 0.9268 - accuracy: 0.6935\n",
      "Epoch 18: val_loss did not improve from 1.36540\n",
      "18/18 [==============================] - 41s 2s/step - loss: 0.9268 - accuracy: 0.6935 - val_loss: 1.3856 - val_accuracy: 0.5000\n",
      "Epoch 19/30\n",
      "18/18 [==============================] - ETA: 0s - loss: 0.8820 - accuracy: 0.7044\n",
      "Epoch 19: val_loss did not improve from 1.36540\n",
      "18/18 [==============================] - 39s 2s/step - loss: 0.8820 - accuracy: 0.7044 - val_loss: 1.3861 - val_accuracy: 0.4954\n",
      "Epoch 20/30\n",
      "18/18 [==============================] - ETA: 0s - loss: 0.8232 - accuracy: 0.7450\n",
      "Epoch 20: val_loss improved from 1.36540 to 1.36424, saving model to C:\\Users\\johnd\\Documents\\MSDS\\Capstone\\Final\\Models\\video_bilstm_landmark_model.h5\n",
      "18/18 [==============================] - 40s 2s/step - loss: 0.8232 - accuracy: 0.7450 - val_loss: 1.3642 - val_accuracy: 0.5093\n",
      "Epoch 21/30\n",
      "18/18 [==============================] - ETA: 0s - loss: 0.7782 - accuracy: 0.7599\n",
      "Epoch 21: val_loss did not improve from 1.36424\n",
      "18/18 [==============================] - 41s 2s/step - loss: 0.7782 - accuracy: 0.7599 - val_loss: 1.3832 - val_accuracy: 0.5000\n",
      "Epoch 22/30\n",
      "18/18 [==============================] - ETA: 0s - loss: 0.7426 - accuracy: 0.7698\n",
      "Epoch 22: val_loss did not improve from 1.36424\n",
      "18/18 [==============================] - 42s 2s/step - loss: 0.7426 - accuracy: 0.7698 - val_loss: 1.4193 - val_accuracy: 0.4954\n",
      "Epoch 23/30\n",
      "18/18 [==============================] - ETA: 0s - loss: 0.7198 - accuracy: 0.7758\n",
      "Epoch 23: val_loss did not improve from 1.36424\n",
      "18/18 [==============================] - 42s 2s/step - loss: 0.7198 - accuracy: 0.7758 - val_loss: 1.4196 - val_accuracy: 0.4861\n",
      "Epoch 24/30\n",
      "18/18 [==============================] - ETA: 0s - loss: 0.6819 - accuracy: 0.7996\n",
      "Epoch 24: val_loss did not improve from 1.36424\n",
      "18/18 [==============================] - 42s 2s/step - loss: 0.6819 - accuracy: 0.7996 - val_loss: 1.3851 - val_accuracy: 0.4861\n",
      "Epoch 25/30\n",
      "18/18 [==============================] - ETA: 0s - loss: 0.6315 - accuracy: 0.8294\n",
      "Epoch 25: val_loss did not improve from 1.36424\n",
      "18/18 [==============================] - 41s 2s/step - loss: 0.6315 - accuracy: 0.8294 - val_loss: 1.4154 - val_accuracy: 0.4861\n",
      "Epoch 26/30\n",
      "18/18 [==============================] - ETA: 0s - loss: 0.5750 - accuracy: 0.8393\n",
      "Epoch 26: val_loss did not improve from 1.36424\n",
      "18/18 [==============================] - 44s 2s/step - loss: 0.5750 - accuracy: 0.8393 - val_loss: 1.3895 - val_accuracy: 0.4861\n",
      "Epoch 27/30\n",
      "18/18 [==============================] - ETA: 0s - loss: 0.5425 - accuracy: 0.8492\n",
      "Epoch 27: val_loss did not improve from 1.36424\n",
      "18/18 [==============================] - 42s 2s/step - loss: 0.5425 - accuracy: 0.8492 - val_loss: 1.3998 - val_accuracy: 0.5000\n",
      "Epoch 28/30\n",
      "18/18 [==============================] - ETA: 0s - loss: 0.5367 - accuracy: 0.8462\n",
      "Epoch 28: val_loss did not improve from 1.36424\n",
      "18/18 [==============================] - 41s 2s/step - loss: 0.5367 - accuracy: 0.8462 - val_loss: 1.4650 - val_accuracy: 0.4769\n",
      "Epoch 29/30\n",
      "18/18 [==============================] - ETA: 0s - loss: 0.5081 - accuracy: 0.8651\n",
      "Epoch 29: val_loss did not improve from 1.36424\n",
      "18/18 [==============================] - 41s 2s/step - loss: 0.5081 - accuracy: 0.8651 - val_loss: 1.4538 - val_accuracy: 0.4861\n",
      "Epoch 30/30\n",
      "18/18 [==============================] - ETA: 0s - loss: 0.4806 - accuracy: 0.8621\n",
      "Epoch 30: val_loss did not improve from 1.36424\n",
      "18/18 [==============================] - 43s 2s/step - loss: 0.4806 - accuracy: 0.8621 - val_loss: 1.4650 - val_accuracy: 0.5046\n"
     ]
    }
   ],
   "source": [
    "# Specify the Model File Name\n",
    "model_fname = os.path.join(model_dir, f'video_bilstm_landmark_model.h5')\n",
    "\n",
    "# Callback to Save Model with Minimum Val Loss\n",
    "callback_list = [\n",
    "       tf.keras.callbacks.ModelCheckpoint(\n",
    "           filepath= model_fname, \n",
    "           verbose=1, save_freq='epoch', \n",
    "           monitor='val_loss', save_best_only=True, mode='min'\n",
    "       )         \n",
    "]\n",
    "\n",
    "# Fit the Facial Landmark Classification Model\n",
    "history = model.fit(x = train_feats, y = train_tar_oh, \n",
    "                    batch_size=batch_size,\n",
    "                    validation_data = (val_feats, val_tar_oh),\n",
    "                    shuffle=True,\n",
    "                    callbacks = callback_list,\n",
    "                    epochs=30, \n",
    "                    verbose=1) "
   ]
  },
  {
   "cell_type": "code",
   "execution_count": 3,
   "id": "608b0e91-d8fa-4f98-a130-3bd599794a82",
   "metadata": {},
   "outputs": [
    {
     "ename": "NameError",
     "evalue": "name 'fig_dir' is not defined",
     "output_type": "error",
     "traceback": [
      "\u001b[1;31m---------------------------------------------------------------------------\u001b[0m",
      "\u001b[1;31mNameError\u001b[0m                                 Traceback (most recent call last)",
      "Cell \u001b[1;32mIn[3], line 2\u001b[0m\n\u001b[0;32m      1\u001b[0m \u001b[38;5;66;03m# Training Loss Plot File Name \u001b[39;00m\n\u001b[1;32m----> 2\u001b[0m train_loss_fn \u001b[38;5;241m=\u001b[39m os\u001b[38;5;241m.\u001b[39mpath\u001b[38;5;241m.\u001b[39mjoin(\u001b[43mfig_dir\u001b[49m, \u001b[38;5;124mf\u001b[39m\u001b[38;5;124m'\u001b[39m\u001b[38;5;124mtraining_loss_video_landmarks.png\u001b[39m\u001b[38;5;124m'\u001b[39m)\n\u001b[0;32m      3\u001b[0m train_acc_fn \u001b[38;5;241m=\u001b[39m os\u001b[38;5;241m.\u001b[39mpath\u001b[38;5;241m.\u001b[39mjoin(fig_dir, \u001b[38;5;124mf\u001b[39m\u001b[38;5;124m'\u001b[39m\u001b[38;5;124mtraining_acc_video_landmarks.png\u001b[39m\u001b[38;5;124m'\u001b[39m)\n\u001b[0;32m      5\u001b[0m \u001b[38;5;66;03m# Plot the Training Curves\u001b[39;00m\n",
      "\u001b[1;31mNameError\u001b[0m: name 'fig_dir' is not defined"
     ]
    }
   ],
   "source": [
    "# Training Loss Plot File Name \n",
    "train_loss_fn = os.path.join(fig_dir, f'training_loss_video_landmarks.png')\n",
    "train_acc_fn = os.path.join(fig_dir, f'training_acc_video_landmarks.png')\n",
    "\n",
    "# Plot the Training Curves\n",
    "plot_history(history, \n",
    "            loss_fn = train_loss_fn, \n",
    "            acc_fn = train_acc_fn, \n",
    "            loss_title = f'Training Loss: Video Landmarks', \n",
    "            acc_title = f'Training Accuracy: Video Landmarks') "
   ]
  },
  {
   "cell_type": "code",
   "execution_count": 2,
   "id": "b35803e2-e73f-4396-8562-f4fa240d3d6c",
   "metadata": {},
   "outputs": [
    {
     "ename": "NameError",
     "evalue": "name 'model_dir' is not defined",
     "output_type": "error",
     "traceback": [
      "\u001b[1;31m---------------------------------------------------------------------------\u001b[0m",
      "\u001b[1;31mNameError\u001b[0m                                 Traceback (most recent call last)",
      "Cell \u001b[1;32mIn[2], line 2\u001b[0m\n\u001b[0;32m      1\u001b[0m \u001b[38;5;66;03m# Restating Model FName in case it is not being retrained \u001b[39;00m\n\u001b[1;32m----> 2\u001b[0m model_fname \u001b[38;5;241m=\u001b[39m os\u001b[38;5;241m.\u001b[39mpath\u001b[38;5;241m.\u001b[39mjoin(\u001b[43mmodel_dir\u001b[49m, \u001b[38;5;124mf\u001b[39m\u001b[38;5;124m'\u001b[39m\u001b[38;5;124mvideo_bilstm_landmark_model.h5\u001b[39m\u001b[38;5;124m'\u001b[39m)\n\u001b[0;32m      4\u001b[0m \u001b[38;5;66;03m# Reloading the best model \u001b[39;00m\n\u001b[0;32m      5\u001b[0m best_model \u001b[38;5;241m=\u001b[39m tf\u001b[38;5;241m.\u001b[39mkeras\u001b[38;5;241m.\u001b[39mmodels\u001b[38;5;241m.\u001b[39mload_model(filepath \u001b[38;5;241m=\u001b[39m model_fname)\n",
      "\u001b[1;31mNameError\u001b[0m: name 'model_dir' is not defined"
     ]
    }
   ],
   "source": [
    "# Restating Model FName in case it is not being retrained \n",
    "model_fname = os.path.join(model_dir, f'video_bilstm_landmark_model.h5')\n",
    "\n",
    "# Reloading the best model \n",
    "best_model = tf.keras.models.load_model(filepath = model_fname)\n",
    "\n",
    "# Gathering Test Set Prediction Categories\n",
    "test_preds = best_model.predict(test_feats)\n",
    "test_preds = np.argmax(test_preds, axis=1, keepdims = True)\n",
    "test_preds = tf.keras.utils.to_categorical(test_preds).astype(np.int64).tolist()\n",
    "\n",
    "# One-Hot Encoding Predictions and True Values\n",
    "pred = [inv_label(pred) for pred in test_preds]\n",
    "true = [inv_label(lab) for lab in test_tar_oh.numpy().astype(np.int64).tolist()]"
   ]
  },
  {
   "cell_type": "code",
   "execution_count": 14,
   "id": "391b6b37-cb68-4d42-8e3b-90f40f3eb830",
   "metadata": {},
   "outputs": [
    {
     "data": {
      "image/png": "[encoded data removed]",
      "text/plain": [
       "<Figure size 640x480 with 1 Axes>"
      ]
     },
     "metadata": {},
     "output_type": "display_data"
    }
   ],
   "source": [
    "# Test Confusion Matrix File Name\n",
    "cm_fname = os.path.join(fig_dir, f'test_cm_landmarks.png')\n",
    "\n",
    "categories = ['baseline', 'happy', 'sad', 'angry',\n",
    "             'fearful', 'disgust','surprised']\n",
    "\n",
    "cm = confusion_matrix(y_true = true, y_pred = pred, labels=categories)\n",
    "fig, ax = plt.subplots()\n",
    "\n",
    "plt.title(f'Landmarks Confusion Matrix')\n",
    "sns.heatmap(cm, ax=ax, annot=True, cbar=False, square=True)\n",
    "ax.set_xticklabels(categories, rotation=45, ha='right')\n",
    "ax.set_yticklabels(categories, rotation=0, ha='right')\n",
    "plt.xlabel('Predicted Emotion')\n",
    "plt.ylabel('True Emotion')\n",
    "plt.tight_layout()\n",
    "plt.savefig(cm_fname)\n",
    "plt.show()"
   ]
  },
  {
   "cell_type": "code",
   "execution_count": 15,
   "id": "935f197f-9216-4d71-b806-0015e05f1a80",
   "metadata": {},
   "outputs": [
    {
     "name": "stdout",
     "output_type": "stream",
     "text": [
      "Testing Set Accuracy: 0.5046296296296297\n",
      "              precision    recall  f1-score   support\n",
      "\n",
      "       angry       0.58      0.73      0.65        30\n",
      "    baseline       0.64      0.69      0.67        42\n",
      "     disgust       0.48      0.57      0.52        28\n",
      "     fearful       0.37      0.39      0.38        28\n",
      "       happy       0.47      0.62      0.54        29\n",
      "         sad       0.40      0.13      0.20        30\n",
      "   surprised       0.41      0.31      0.35        29\n",
      "\n",
      "    accuracy                           0.50       216\n",
      "   macro avg       0.48      0.49      0.47       216\n",
      "weighted avg       0.49      0.50      0.48       216\n",
      "\n"
     ]
    }
   ],
   "source": [
    "# Showing Classification Report for Test Set\n",
    "print(f'Testing Set Accuracy: {accuracy_score(true, pred)}')\n",
    "print(classification_report(y_true=true, y_pred=pred))"
   ]
  }
 ],
 "metadata": {
  "kernelspec": {
   "display_name": "Python 3 (ipykernel)",
   "language": "python",
   "name": "python3"
  },
  "language_info": {
   "codemirror_mode": {
    "name": "ipython",
    "version": 3
   },
   "file_extension": ".py",
   "mimetype": "text/x-python",
   "name": "python",
   "nbconvert_exporter": "python",
   "pygments_lexer": "ipython3",
   "version": "3.10.13"
  }
 },
 "nbformat": 4,
 "nbformat_minor": 5
}
